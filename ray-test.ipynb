{
 "cells": [
  {
   "cell_type": "code",
   "execution_count": 1,
   "id": "fa6c4d1d-b72d-41b4-8b99-59a53fb4b695",
   "metadata": {
    "tags": []
   },
   "outputs": [
    {
     "name": "stdout",
     "output_type": "stream",
     "text": [
      "Collecting git+https://github.com/cloudera/cmlextensions.git\n",
      "  Cloning https://github.com/cloudera/cmlextensions.git to /tmp/pip-req-build-u4_tonq6\n",
      "  Running command git clone --filter=blob:none --quiet https://github.com/cloudera/cmlextensions.git /tmp/pip-req-build-u4_tonq6\n",
      "  Resolved https://github.com/cloudera/cmlextensions.git to commit d30304e29ab636d238b612119c54648825fb149d\n",
      "  Installing build dependencies ... \u001b[?25ldone\n",
      "\u001b[?25h  Getting requirements to build wheel ... \u001b[?25ldone\n",
      "\u001b[?25h  Preparing metadata (pyproject.toml) ... \u001b[?25ldone\n",
      "\u001b[?25hBuilding wheels for collected packages: cmlextensions\n",
      "  Building wheel for cmlextensions (pyproject.toml) ... \u001b[?25ldone\n",
      "\u001b[?25h  Created wheel for cmlextensions: filename=cmlextensions-0.1-py3-none-any.whl size=13977 sha256=dbb3ebc1997139e33b8bacda80443e79aed90ef79b12a291b519ff9052288c3a\n",
      "  Stored in directory: /tmp/pip-ephem-wheel-cache-t009l9j8/wheels/b5/c5/e7/13fdd7b0727106324510c3eb8f64f2268a96e68f1f70079dd4\n",
      "Successfully built cmlextensions\n",
      "Installing collected packages: cmlextensions\n",
      "Successfully installed cmlextensions-0.1\n",
      "Requirement already satisfied: ray[default] in ./.local/lib/python3.9/site-packages (2.9.2)\n",
      "Requirement already satisfied: click>=7.0 in /runtime-addons/cmladdon-2.0.42-b80/opt/cmladdons/python/site-packages (from ray[default]) (8.1.3)\n",
      "Requirement already satisfied: filelock in ./.local/lib/python3.9/site-packages (from ray[default]) (3.13.3)\n",
      "Requirement already satisfied: jsonschema in /usr/local/lib/python3.9/site-packages (from ray[default]) (4.17.3)\n",
      "Requirement already satisfied: msgpack<2.0.0,>=1.0.0 in ./.local/lib/python3.9/site-packages (from ray[default]) (1.0.8)\n",
      "Requirement already satisfied: packaging in ./.local/lib/python3.9/site-packages (from ray[default]) (23.2)\n",
      "Requirement already satisfied: protobuf!=3.19.5,>=3.15.3 in ./.local/lib/python3.9/site-packages (from ray[default]) (4.25.3)\n",
      "Requirement already satisfied: pyyaml in /usr/local/lib/python3.9/site-packages (from ray[default]) (6.0)\n",
      "Requirement already satisfied: aiosignal in ./.local/lib/python3.9/site-packages (from ray[default]) (1.3.1)\n",
      "Requirement already satisfied: frozenlist in ./.local/lib/python3.9/site-packages (from ray[default]) (1.4.1)\n",
      "Requirement already satisfied: requests in /usr/local/lib/python3.9/site-packages (from ray[default]) (2.31.0)\n",
      "Requirement already satisfied: aiohttp>=3.7 in ./.local/lib/python3.9/site-packages (from ray[default]) (3.9.3)\n",
      "Requirement already satisfied: aiohttp-cors in ./.local/lib/python3.9/site-packages (from ray[default]) (0.7.0)\n",
      "Requirement already satisfied: colorful in ./.local/lib/python3.9/site-packages (from ray[default]) (0.5.6)\n",
      "Requirement already satisfied: py-spy>=0.2.0 in ./.local/lib/python3.9/site-packages (from ray[default]) (0.3.14)\n",
      "Requirement already satisfied: gpustat>=1.0.0 in ./.local/lib/python3.9/site-packages (from ray[default]) (1.1.1)\n",
      "Requirement already satisfied: opencensus in ./.local/lib/python3.9/site-packages (from ray[default]) (0.11.4)\n",
      "Requirement already satisfied: pydantic!=2.0.*,!=2.1.*,!=2.2.*,!=2.3.*,!=2.4.*,<3 in ./.local/lib/python3.9/site-packages (from ray[default]) (2.6.1)\n",
      "Requirement already satisfied: prometheus-client>=0.7.1 in ./.local/lib/python3.9/site-packages (from ray[default]) (0.20.0)\n",
      "Requirement already satisfied: smart-open in ./.local/lib/python3.9/site-packages (from ray[default]) (7.0.4)\n",
      "Requirement already satisfied: virtualenv!=20.21.1,>=20.0.24 in ./.local/lib/python3.9/site-packages (from ray[default]) (20.25.1)\n",
      "Requirement already satisfied: grpcio>=1.32.0 in ./.local/lib/python3.9/site-packages (from ray[default]) (1.62.1)\n",
      "Requirement already satisfied: attrs>=17.3.0 in /usr/local/lib/python3.9/site-packages (from aiohttp>=3.7->ray[default]) (23.1.0)\n",
      "Requirement already satisfied: multidict<7.0,>=4.5 in ./.local/lib/python3.9/site-packages (from aiohttp>=3.7->ray[default]) (6.0.5)\n",
      "Requirement already satisfied: yarl<2.0,>=1.0 in ./.local/lib/python3.9/site-packages (from aiohttp>=3.7->ray[default]) (1.9.4)\n",
      "Requirement already satisfied: async-timeout<5.0,>=4.0 in ./.local/lib/python3.9/site-packages (from aiohttp>=3.7->ray[default]) (4.0.3)\n",
      "Requirement already satisfied: nvidia-ml-py>=11.450.129 in ./.local/lib/python3.9/site-packages (from gpustat>=1.0.0->ray[default]) (12.535.133)\n",
      "Requirement already satisfied: psutil>=5.6.0 in /usr/local/lib/python3.9/site-packages (from gpustat>=1.0.0->ray[default]) (5.9.5)\n",
      "Requirement already satisfied: blessed>=1.17.1 in ./.local/lib/python3.9/site-packages (from gpustat>=1.0.0->ray[default]) (1.20.0)\n",
      "Requirement already satisfied: annotated-types>=0.4.0 in ./.local/lib/python3.9/site-packages (from pydantic!=2.0.*,!=2.1.*,!=2.2.*,!=2.3.*,!=2.4.*,<3->ray[default]) (0.6.0)\n",
      "Requirement already satisfied: pydantic-core==2.16.2 in ./.local/lib/python3.9/site-packages (from pydantic!=2.0.*,!=2.1.*,!=2.2.*,!=2.3.*,!=2.4.*,<3->ray[default]) (2.16.2)\n",
      "Requirement already satisfied: typing-extensions>=4.6.1 in ./.local/lib/python3.9/site-packages (from pydantic!=2.0.*,!=2.1.*,!=2.2.*,!=2.3.*,!=2.4.*,<3->ray[default]) (4.10.0)\n",
      "Requirement already satisfied: distlib<1,>=0.3.7 in ./.local/lib/python3.9/site-packages (from virtualenv!=20.21.1,>=20.0.24->ray[default]) (0.3.8)\n",
      "Requirement already satisfied: platformdirs<5,>=3.9.1 in ./.local/lib/python3.9/site-packages (from virtualenv!=20.21.1,>=20.0.24->ray[default]) (4.2.0)\n",
      "Requirement already satisfied: pyrsistent!=0.17.0,!=0.17.1,!=0.17.2,>=0.14.0 in /usr/local/lib/python3.9/site-packages (from jsonschema->ray[default]) (0.17.3)\n",
      "Requirement already satisfied: opencensus-context>=0.1.3 in ./.local/lib/python3.9/site-packages (from opencensus->ray[default]) (0.1.3)\n",
      "Requirement already satisfied: six~=1.16 in /usr/local/lib/python3.9/site-packages (from opencensus->ray[default]) (1.16.0)\n",
      "Requirement already satisfied: google-api-core<3.0.0,>=1.0.0 in ./.local/lib/python3.9/site-packages (from opencensus->ray[default]) (2.18.0)\n",
      "Requirement already satisfied: charset-normalizer<4,>=2 in /usr/local/lib/python3.9/site-packages (from requests->ray[default]) (3.1.0)\n",
      "Requirement already satisfied: idna<4,>=2.5 in /usr/local/lib/python3.9/site-packages (from requests->ray[default]) (2.10)\n",
      "Requirement already satisfied: urllib3<3,>=1.21.1 in /usr/local/lib/python3.9/site-packages (from requests->ray[default]) (1.26.6)\n",
      "Requirement already satisfied: certifi>=2017.4.17 in /usr/local/lib/python3.9/site-packages (from requests->ray[default]) (2023.7.22)\n",
      "Requirement already satisfied: wrapt in ./.local/lib/python3.9/site-packages (from smart-open->ray[default]) (1.16.0)\n",
      "Requirement already satisfied: wcwidth>=0.1.4 in /usr/local/lib/python3.9/site-packages (from blessed>=1.17.1->gpustat>=1.0.0->ray[default]) (0.2.5)\n",
      "Requirement already satisfied: googleapis-common-protos<2.0.dev0,>=1.56.2 in ./.local/lib/python3.9/site-packages (from google-api-core<3.0.0,>=1.0.0->opencensus->ray[default]) (1.63.0)\n",
      "Requirement already satisfied: proto-plus<2.0.0dev,>=1.22.3 in ./.local/lib/python3.9/site-packages (from google-api-core<3.0.0,>=1.0.0->opencensus->ray[default]) (1.23.0)\n",
      "Requirement already satisfied: google-auth<3.0.dev0,>=2.14.1 in ./.local/lib/python3.9/site-packages (from google-api-core<3.0.0,>=1.0.0->opencensus->ray[default]) (2.29.0)\n",
      "Requirement already satisfied: cachetools<6.0,>=2.0.0 in ./.local/lib/python3.9/site-packages (from google-auth<3.0.dev0,>=2.14.1->google-api-core<3.0.0,>=1.0.0->opencensus->ray[default]) (5.3.3)\n",
      "Requirement already satisfied: pyasn1-modules>=0.2.1 in ./.local/lib/python3.9/site-packages (from google-auth<3.0.dev0,>=2.14.1->google-api-core<3.0.0,>=1.0.0->opencensus->ray[default]) (0.4.0)\n",
      "Requirement already satisfied: rsa<5,>=3.1.4 in ./.local/lib/python3.9/site-packages (from google-auth<3.0.dev0,>=2.14.1->google-api-core<3.0.0,>=1.0.0->opencensus->ray[default]) (4.9)\n",
      "Requirement already satisfied: pyasn1<0.7.0,>=0.4.6 in ./.local/lib/python3.9/site-packages (from pyasn1-modules>=0.2.1->google-auth<3.0.dev0,>=2.14.1->google-api-core<3.0.0,>=1.0.0->opencensus->ray[default]) (0.6.0)\n",
      "Collecting logger\n",
      "  Downloading logger-1.4.tar.gz (1.2 kB)\n",
      "  Preparing metadata (setup.py) ... \u001b[?25ldone\n",
      "\u001b[?25hBuilding wheels for collected packages: logger\n",
      "  Building wheel for logger (setup.py) ... \u001b[?25ldone\n",
      "\u001b[?25h  Created wheel for logger: filename=logger-1.4-py3-none-any.whl size=1788 sha256=97728451dcc42bd2e5bfe7bf3461813204c16126264b1828f683e45c164379f1\n",
      "  Stored in directory: /home/cdsw/.cache/pip/wheels/d6/2c/20/0bf3428f60a053875adaf43bee20695fff6e5d5a2cffaceaad\n",
      "Successfully built logger\n",
      "Installing collected packages: logger\n",
      "Successfully installed logger-1.4\n"
     ]
    }
   ],
   "source": [
    "!pip install git+https://github.com/cloudera/cmlextensions.git\n",
    "!pip install ray[default]\n",
    "!pip install logger"
   ]
  },
  {
   "cell_type": "code",
   "execution_count": 2,
   "id": "304bc936-318e-4bbe-9c4d-63dd39a701aa",
   "metadata": {
    "tags": []
   },
   "outputs": [
    {
     "name": "stdout",
     "output_type": "stream",
     "text": [
      "Collecting ipywidgets\n",
      "  Obtaining dependency information for ipywidgets from https://files.pythonhosted.org/packages/d4/17/8b2ce5765dd423433d2e0727712629c46152fb0bc706b0977f847480f262/ipywidgets-8.1.3-py3-none-any.whl.metadata\n",
      "  Downloading ipywidgets-8.1.3-py3-none-any.whl.metadata (2.4 kB)\n",
      "Requirement already satisfied: comm>=0.1.3 in /usr/local/lib/python3.9/site-packages (from ipywidgets) (0.1.3)\n",
      "Requirement already satisfied: ipython>=6.1.0 in /usr/local/lib/python3.9/site-packages (from ipywidgets) (8.10.0)\n",
      "Requirement already satisfied: traitlets>=4.3.1 in /usr/local/lib/python3.9/site-packages (from ipywidgets) (5.9.0)\n",
      "Collecting widgetsnbextension~=4.0.11 (from ipywidgets)\n",
      "  Obtaining dependency information for widgetsnbextension~=4.0.11 from https://files.pythonhosted.org/packages/93/c1/68423f43bc95d873d745bef8030ecf47cd67f932f20b3f7080a02cff43ca/widgetsnbextension-4.0.11-py3-none-any.whl.metadata\n",
      "  Downloading widgetsnbextension-4.0.11-py3-none-any.whl.metadata (1.6 kB)\n",
      "Collecting jupyterlab-widgets~=3.0.11 (from ipywidgets)\n",
      "  Obtaining dependency information for jupyterlab-widgets~=3.0.11 from https://files.pythonhosted.org/packages/65/f6/659ca44182c86f57977e946047c339c717745fda9f43b7ac47f274e86553/jupyterlab_widgets-3.0.11-py3-none-any.whl.metadata\n",
      "  Downloading jupyterlab_widgets-3.0.11-py3-none-any.whl.metadata (4.1 kB)\n",
      "Requirement already satisfied: backcall in /usr/local/lib/python3.9/site-packages (from ipython>=6.1.0->ipywidgets) (0.2.0)\n",
      "Requirement already satisfied: decorator in /usr/local/lib/python3.9/site-packages (from ipython>=6.1.0->ipywidgets) (4.4.2)\n",
      "Requirement already satisfied: jedi>=0.16 in /usr/local/lib/python3.9/site-packages (from ipython>=6.1.0->ipywidgets) (0.18.2)\n",
      "Requirement already satisfied: matplotlib-inline in /usr/local/lib/python3.9/site-packages (from ipython>=6.1.0->ipywidgets) (0.1.3)\n",
      "Requirement already satisfied: pickleshare in /usr/local/lib/python3.9/site-packages (from ipython>=6.1.0->ipywidgets) (0.7.5)\n",
      "Requirement already satisfied: prompt-toolkit<3.1.0,>=3.0.30 in /usr/local/lib/python3.9/site-packages (from ipython>=6.1.0->ipywidgets) (3.0.38)\n",
      "Requirement already satisfied: pygments>=2.4.0 in /usr/local/lib/python3.9/site-packages (from ipython>=6.1.0->ipywidgets) (2.15.1)\n",
      "Requirement already satisfied: stack-data in /usr/local/lib/python3.9/site-packages (from ipython>=6.1.0->ipywidgets) (0.6.2)\n",
      "Requirement already satisfied: pexpect>4.3 in /usr/local/lib/python3.9/site-packages (from ipython>=6.1.0->ipywidgets) (4.8.0)\n",
      "Requirement already satisfied: parso<0.9.0,>=0.8.0 in /usr/local/lib/python3.9/site-packages (from jedi>=0.16->ipython>=6.1.0->ipywidgets) (0.8.3)\n",
      "Requirement already satisfied: ptyprocess>=0.5 in /usr/local/lib/python3.9/site-packages (from pexpect>4.3->ipython>=6.1.0->ipywidgets) (0.6.0)\n",
      "Requirement already satisfied: wcwidth in /usr/local/lib/python3.9/site-packages (from prompt-toolkit<3.1.0,>=3.0.30->ipython>=6.1.0->ipywidgets) (0.2.5)\n",
      "Requirement already satisfied: executing>=1.2.0 in /usr/local/lib/python3.9/site-packages (from stack-data->ipython>=6.1.0->ipywidgets) (1.2.0)\n",
      "Requirement already satisfied: asttokens>=2.1.0 in /usr/local/lib/python3.9/site-packages (from stack-data->ipython>=6.1.0->ipywidgets) (2.2.1)\n",
      "Requirement already satisfied: pure-eval in /usr/local/lib/python3.9/site-packages (from stack-data->ipython>=6.1.0->ipywidgets) (0.2.2)\n",
      "Requirement already satisfied: six in /usr/local/lib/python3.9/site-packages (from asttokens>=2.1.0->stack-data->ipython>=6.1.0->ipywidgets) (1.16.0)\n",
      "Downloading ipywidgets-8.1.3-py3-none-any.whl (139 kB)\n",
      "\u001b[2K   \u001b[90m━━━━━━━━━━━━━━━━━━━━━━━━━━━━━━━━━━━━━━━━\u001b[0m \u001b[32m139.4/139.4 kB\u001b[0m \u001b[31m7.6 MB/s\u001b[0m eta \u001b[36m0:00:00\u001b[0m\n",
      "\u001b[?25hDownloading jupyterlab_widgets-3.0.11-py3-none-any.whl (214 kB)\n",
      "\u001b[2K   \u001b[90m━━━━━━━━━━━━━━━━━━━━━━━━━━━━━━━━━━━━━━━━\u001b[0m \u001b[32m214.4/214.4 kB\u001b[0m \u001b[31m19.9 MB/s\u001b[0m eta \u001b[36m0:00:00\u001b[0m\n",
      "\u001b[?25hDownloading widgetsnbextension-4.0.11-py3-none-any.whl (2.3 MB)\n",
      "\u001b[2K   \u001b[90m━━━━━━━━━━━━━━━━━━━━━━━━━━━━━━━━━━━━━━━━\u001b[0m \u001b[32m2.3/2.3 MB\u001b[0m \u001b[31m57.4 MB/s\u001b[0m eta \u001b[36m0:00:00\u001b[0m:00:01\u001b[0m\n",
      "\u001b[?25hInstalling collected packages: widgetsnbextension, jupyterlab-widgets, ipywidgets\n",
      "Successfully installed ipywidgets-8.1.3 jupyterlab-widgets-3.0.11 widgetsnbextension-4.0.11\n"
     ]
    }
   ],
   "source": [
    "!pip install -U ipywidgets"
   ]
  },
  {
   "cell_type": "code",
   "execution_count": 3,
   "id": "387c1df5-8c73-4369-94f3-2659c05a5106",
   "metadata": {
    "tags": []
   },
   "outputs": [],
   "source": [
    "from cmlextensions.ray_cluster import RayCluster"
   ]
  },
  {
   "cell_type": "code",
   "execution_count": 4,
   "id": "304c266d-8dae-4877-b820-5d2dd70d1e11",
   "metadata": {
    "tags": []
   },
   "outputs": [
    {
     "name": "stdout",
     "output_type": "stream",
     "text": [
      "Starting ray head...\n",
      "Starting 3 ray workers...\n",
      "\n",
      "--------------------\n",
      "Ray cluster started\n",
      "--------------------\n",
      "\n",
      "The Ray dashboard is running at\n",
      "https://5avval4ltqx7la5a.cml.apps.puncdsocpprd.os.net.ibm.com/\n",
      "\n",
      "To connect to this Ray cluster from this CML Session,\n",
      "use the following Python code:\n",
      "  import ray\n",
      "  ray.init(address='ray://10.129.8.142:10001')\n",
      "\n"
     ]
    }
   ],
   "source": [
    "cluster = RayCluster(num_workers=3, worker_cpu=2, worker_memory=4, worker_nvidia_gpu=1, head_cpu=2, head_memory=4, head_nvidia_gpu=0)\n",
    "cluster.init()"
   ]
  },
  {
   "cell_type": "code",
   "execution_count": 5,
   "id": "884e47ab-a727-47f8-9260-c4bac907c187",
   "metadata": {
    "tags": []
   },
   "outputs": [
    {
     "name": "stderr",
     "output_type": "stream",
     "text": [
      "SIGTERM handler is not set because current thread is not the main thread.\n"
     ]
    },
    {
     "data": {
      "application/vnd.jupyter.widget-view+json": {
       "model_id": "cb24bda7bd594ab28838e47e854b1ec9",
       "version_major": 2,
       "version_minor": 0
      },
      "text/html": [
       "<div class=\"lm-Widget p-Widget lm-Panel p-Panel jp-Cell-outputWrapper\">\n",
       "    <div style=\"margin-left: 50px;display: flex;flex-direction: row;align-items: center\">\n",
       "        <div class=\"jp-RenderedHTMLCommon\" style=\"display: flex; flex-direction: row;\">\n",
       "  <svg viewBox=\"0 0 567 224\" fill=\"none\" xmlns=\"http://www.w3.org/2000/svg\" style=\"height: 3em;\">\n",
       "    <g clip-path=\"url(#clip0_4338_178347)\">\n",
       "        <path d=\"M341.29 165.561H355.29L330.13 129.051C345.63 123.991 354.21 112.051 354.21 94.2307C354.21 71.3707 338.72 58.1807 311.88 58.1807H271V165.561H283.27V131.661H311.8C314.25 131.661 316.71 131.501 319.01 131.351L341.25 165.561H341.29ZM283.29 119.851V70.0007H311.82C331.3 70.0007 342.34 78.2907 342.34 94.5507C342.34 111.271 331.34 119.861 311.82 119.861L283.29 119.851ZM451.4 138.411L463.4 165.561H476.74L428.74 58.1807H416L367.83 165.561H380.83L392.83 138.411H451.4ZM446.19 126.601H398L422 72.1407L446.24 126.601H446.19ZM526.11 128.741L566.91 58.1807H554.35L519.99 114.181L485.17 58.1807H472.44L514.01 129.181V165.541H526.13V128.741H526.11Z\" fill=\"var(--jp-ui-font-color0)\"/>\n",
       "        <path d=\"M82.35 104.44C84.0187 97.8827 87.8248 92.0678 93.1671 87.9146C98.5094 83.7614 105.083 81.5067 111.85 81.5067C118.617 81.5067 125.191 83.7614 130.533 87.9146C135.875 92.0678 139.681 97.8827 141.35 104.44H163.75C164.476 101.562 165.622 98.8057 167.15 96.2605L127.45 56.5605C121.071 60.3522 113.526 61.6823 106.235 60.3005C98.9443 58.9187 92.4094 54.9203 87.8602 49.0574C83.3109 43.1946 81.0609 35.8714 81.5332 28.4656C82.0056 21.0599 85.1679 14.0819 90.4252 8.8446C95.6824 3.60726 102.672 0.471508 110.08 0.0272655C117.487 -0.416977 124.802 1.86091 130.647 6.4324C136.493 11.0039 140.467 17.5539 141.821 24.8501C143.175 32.1463 141.816 39.6859 138 46.0505L177.69 85.7505C182.31 82.9877 187.58 81.4995 192.962 81.4375C198.345 81.3755 203.648 82.742 208.33 85.3976C213.012 88.0532 216.907 91.9029 219.616 96.5544C222.326 101.206 223.753 106.492 223.753 111.875C223.753 117.258 222.326 122.545 219.616 127.197C216.907 131.848 213.012 135.698 208.33 138.353C203.648 141.009 198.345 142.375 192.962 142.313C187.58 142.251 182.31 140.763 177.69 138L138 177.7C141.808 184.071 143.155 191.614 141.79 198.91C140.424 206.205 136.44 212.75 130.585 217.313C124.731 221.875 117.412 224.141 110.004 223.683C102.596 223.226 95.6103 220.077 90.3621 214.828C85.1139 209.58 81.9647 202.595 81.5072 195.187C81.0497 187.779 83.3154 180.459 87.878 174.605C92.4405 168.751 98.9853 164.766 106.281 163.401C113.576 162.035 121.119 163.383 127.49 167.19L167.19 127.49C165.664 124.941 164.518 122.182 163.79 119.3H141.39C139.721 125.858 135.915 131.673 130.573 135.826C125.231 139.98 118.657 142.234 111.89 142.234C105.123 142.234 98.5494 139.98 93.2071 135.826C87.8648 131.673 84.0587 125.858 82.39 119.3H60C58.1878 126.495 53.8086 132.78 47.6863 136.971C41.5641 141.163 34.1211 142.972 26.7579 142.059C19.3947 141.146 12.6191 137.574 7.70605 132.014C2.79302 126.454 0.0813599 119.29 0.0813599 111.87C0.0813599 104.451 2.79302 97.2871 7.70605 91.7272C12.6191 86.1673 19.3947 82.5947 26.7579 81.6817C34.1211 80.7686 41.5641 82.5781 47.6863 86.7696C53.8086 90.9611 58.1878 97.2456 60 104.44H82.35ZM100.86 204.32C103.407 206.868 106.759 208.453 110.345 208.806C113.93 209.159 117.527 208.258 120.522 206.256C123.517 204.254 125.725 201.276 126.771 197.828C127.816 194.38 127.633 190.677 126.253 187.349C124.874 184.021 122.383 181.274 119.205 179.577C116.027 177.88 112.359 177.337 108.826 178.042C105.293 178.746 102.113 180.654 99.8291 183.44C97.5451 186.226 96.2979 189.718 96.3 193.32C96.2985 195.364 96.7006 197.388 97.4831 199.275C98.2656 201.163 99.4132 202.877 100.86 204.32ZM204.32 122.88C206.868 120.333 208.453 116.981 208.806 113.396C209.159 109.811 208.258 106.214 206.256 103.219C204.254 100.223 201.275 98.0151 197.827 96.97C194.38 95.9249 190.676 96.1077 187.348 97.4873C184.02 98.8669 181.274 101.358 179.577 104.536C177.879 107.714 177.337 111.382 178.041 114.915C178.746 118.448 180.653 121.627 183.439 123.911C186.226 126.195 189.717 127.443 193.32 127.44C195.364 127.443 197.388 127.042 199.275 126.259C201.163 125.476 202.878 124.328 204.32 122.88ZM122.88 19.4205C120.333 16.8729 116.981 15.2876 113.395 14.9347C109.81 14.5817 106.213 15.483 103.218 17.4849C100.223 19.4868 98.0146 22.4654 96.9696 25.9131C95.9245 29.3608 96.1073 33.0642 97.4869 36.3922C98.8665 39.7202 101.358 42.4668 104.535 44.1639C107.713 45.861 111.381 46.4036 114.914 45.6992C118.447 44.9949 121.627 43.0871 123.911 40.301C126.195 37.515 127.442 34.0231 127.44 30.4205C127.44 28.3772 127.038 26.3539 126.255 24.4664C125.473 22.5788 124.326 20.8642 122.88 19.4205ZM19.42 100.86C16.8725 103.408 15.2872 106.76 14.9342 110.345C14.5813 113.93 15.4826 117.527 17.4844 120.522C19.4863 123.518 22.4649 125.726 25.9127 126.771C29.3604 127.816 33.0638 127.633 36.3918 126.254C39.7198 124.874 42.4664 122.383 44.1635 119.205C45.8606 116.027 46.4032 112.359 45.6988 108.826C44.9944 105.293 43.0866 102.114 40.3006 99.8296C37.5145 97.5455 34.0227 96.2983 30.42 96.3005C26.2938 96.3018 22.337 97.9421 19.42 100.86ZM100.86 100.86C98.3125 103.408 96.7272 106.76 96.3742 110.345C96.0213 113.93 96.9226 117.527 98.9244 120.522C100.926 123.518 103.905 125.726 107.353 126.771C110.8 127.816 114.504 127.633 117.832 126.254C121.16 124.874 123.906 122.383 125.604 119.205C127.301 116.027 127.843 112.359 127.139 108.826C126.434 105.293 124.527 102.114 121.741 99.8296C118.955 97.5455 115.463 96.2983 111.86 96.3005C109.817 96.299 107.793 96.701 105.905 97.4835C104.018 98.2661 102.303 99.4136 100.86 100.86Z\" fill=\"#00AEEF\"/>\n",
       "    </g>\n",
       "    <defs>\n",
       "        <clipPath id=\"clip0_4338_178347\">\n",
       "            <rect width=\"566.93\" height=\"223.75\" fill=\"white\"/>\n",
       "        </clipPath>\n",
       "    </defs>\n",
       "  </svg>\n",
       "</div>\n",
       "\n",
       "        <table class=\"jp-RenderedHTMLCommon\" style=\"border-collapse: collapse;color: var(--jp-ui-font-color1);font-size: var(--jp-ui-font-size1);\">\n",
       "    <tr>\n",
       "        <td style=\"text-align: left\"><b>Python version:</b></td>\n",
       "        <td style=\"text-align: left\"><b>3.9.16</b></td>\n",
       "    </tr>\n",
       "    <tr>\n",
       "        <td style=\"text-align: left\"><b>Ray version:</b></td>\n",
       "        <td style=\"text-align: left\"><b>2.9.2</b></td>\n",
       "    </tr>\n",
       "    <tr>\n",
       "    <td style=\"text-align: left\"><b>Dashboard:</b></td>\n",
       "    <td style=\"text-align: left\"><b><a href=\"http://127.0.0.1:8090\" target=\"_blank\">http://127.0.0.1:8090</a></b></td>\n",
       "</tr>\n",
       "\n",
       "</table>\n",
       "\n",
       "    </div>\n",
       "</div>\n"
      ],
      "text/plain": [
       "ClientContext(dashboard_url='127.0.0.1:8090', python_version='3.9.16', ray_version='2.9.2', ray_commit='fce7a361807580953364e2da964f9498f3123bf9', protocol_version='2023-06-27', _num_clients=1, _context_to_restore=<ray.util.client._ClientContext object at 0x7fe3ef37b970>)"
      ]
     },
     "execution_count": 5,
     "metadata": {},
     "output_type": "execute_result"
    }
   ],
   "source": [
    "import ray\n",
    "\n",
    "if ray.is_initialized:\n",
    "    ray.shutdown()\n",
    "\n",
    "# GPUs and CPUs are auto-detected by ray when you call ray.init()\n",
    "ray.init(address=cluster.get_client_url())\n",
    "# -----> this doesn't work because get_gpu_ids cannot be used in a driver.\n",
    "# print('ray.init()',ray.get_gpu_ids())"
   ]
  },
  {
   "cell_type": "code",
   "execution_count": 6,
   "id": "d51a2a70-2253-4768-9326-24b6664d69ec",
   "metadata": {
    "tags": []
   },
   "outputs": [
    {
     "name": "stderr",
     "output_type": "stream",
     "text": [
      "2024-05-31 04:36:26,286\tWARNING services.py:1996 -- WARNING: The object store is using /tmp instead of /dev/shm because /dev/shm has only 67108864 bytes available. This will harm performance! You may be able to free up space by deleting files in /dev/shm. If you are inside a Docker container, you can increase /dev/shm size by passing '--shm-size=2.00gb' to 'docker run' (or add it to the run_options list in a Ray cluster config). Make sure to set this to more than 30% of available RAM.\n",
      "2024-05-31 04:36:27,501\tINFO worker.py:1715 -- Started a local Ray instance. View the dashboard at \u001b[1m\u001b[32m127.0.0.1:8090 \u001b[39m\u001b[22m\n"
     ]
    },
    {
     "data": {
      "application/vnd.jupyter.widget-view+json": {
       "model_id": "9e32a8ea5c1049858c1d79f0eba83568",
       "version_major": 2,
       "version_minor": 0
      },
      "text/html": [
       "<div class=\"lm-Widget p-Widget lm-Panel p-Panel jp-Cell-outputWrapper\">\n",
       "    <div style=\"margin-left: 50px;display: flex;flex-direction: row;align-items: center\">\n",
       "        <div class=\"jp-RenderedHTMLCommon\" style=\"display: flex; flex-direction: row;\">\n",
       "  <svg viewBox=\"0 0 567 224\" fill=\"none\" xmlns=\"http://www.w3.org/2000/svg\" style=\"height: 3em;\">\n",
       "    <g clip-path=\"url(#clip0_4338_178347)\">\n",
       "        <path d=\"M341.29 165.561H355.29L330.13 129.051C345.63 123.991 354.21 112.051 354.21 94.2307C354.21 71.3707 338.72 58.1807 311.88 58.1807H271V165.561H283.27V131.661H311.8C314.25 131.661 316.71 131.501 319.01 131.351L341.25 165.561H341.29ZM283.29 119.851V70.0007H311.82C331.3 70.0007 342.34 78.2907 342.34 94.5507C342.34 111.271 331.34 119.861 311.82 119.861L283.29 119.851ZM451.4 138.411L463.4 165.561H476.74L428.74 58.1807H416L367.83 165.561H380.83L392.83 138.411H451.4ZM446.19 126.601H398L422 72.1407L446.24 126.601H446.19ZM526.11 128.741L566.91 58.1807H554.35L519.99 114.181L485.17 58.1807H472.44L514.01 129.181V165.541H526.13V128.741H526.11Z\" fill=\"var(--jp-ui-font-color0)\"/>\n",
       "        <path d=\"M82.35 104.44C84.0187 97.8827 87.8248 92.0678 93.1671 87.9146C98.5094 83.7614 105.083 81.5067 111.85 81.5067C118.617 81.5067 125.191 83.7614 130.533 87.9146C135.875 92.0678 139.681 97.8827 141.35 104.44H163.75C164.476 101.562 165.622 98.8057 167.15 96.2605L127.45 56.5605C121.071 60.3522 113.526 61.6823 106.235 60.3005C98.9443 58.9187 92.4094 54.9203 87.8602 49.0574C83.3109 43.1946 81.0609 35.8714 81.5332 28.4656C82.0056 21.0599 85.1679 14.0819 90.4252 8.8446C95.6824 3.60726 102.672 0.471508 110.08 0.0272655C117.487 -0.416977 124.802 1.86091 130.647 6.4324C136.493 11.0039 140.467 17.5539 141.821 24.8501C143.175 32.1463 141.816 39.6859 138 46.0505L177.69 85.7505C182.31 82.9877 187.58 81.4995 192.962 81.4375C198.345 81.3755 203.648 82.742 208.33 85.3976C213.012 88.0532 216.907 91.9029 219.616 96.5544C222.326 101.206 223.753 106.492 223.753 111.875C223.753 117.258 222.326 122.545 219.616 127.197C216.907 131.848 213.012 135.698 208.33 138.353C203.648 141.009 198.345 142.375 192.962 142.313C187.58 142.251 182.31 140.763 177.69 138L138 177.7C141.808 184.071 143.155 191.614 141.79 198.91C140.424 206.205 136.44 212.75 130.585 217.313C124.731 221.875 117.412 224.141 110.004 223.683C102.596 223.226 95.6103 220.077 90.3621 214.828C85.1139 209.58 81.9647 202.595 81.5072 195.187C81.0497 187.779 83.3154 180.459 87.878 174.605C92.4405 168.751 98.9853 164.766 106.281 163.401C113.576 162.035 121.119 163.383 127.49 167.19L167.19 127.49C165.664 124.941 164.518 122.182 163.79 119.3H141.39C139.721 125.858 135.915 131.673 130.573 135.826C125.231 139.98 118.657 142.234 111.89 142.234C105.123 142.234 98.5494 139.98 93.2071 135.826C87.8648 131.673 84.0587 125.858 82.39 119.3H60C58.1878 126.495 53.8086 132.78 47.6863 136.971C41.5641 141.163 34.1211 142.972 26.7579 142.059C19.3947 141.146 12.6191 137.574 7.70605 132.014C2.79302 126.454 0.0813599 119.29 0.0813599 111.87C0.0813599 104.451 2.79302 97.2871 7.70605 91.7272C12.6191 86.1673 19.3947 82.5947 26.7579 81.6817C34.1211 80.7686 41.5641 82.5781 47.6863 86.7696C53.8086 90.9611 58.1878 97.2456 60 104.44H82.35ZM100.86 204.32C103.407 206.868 106.759 208.453 110.345 208.806C113.93 209.159 117.527 208.258 120.522 206.256C123.517 204.254 125.725 201.276 126.771 197.828C127.816 194.38 127.633 190.677 126.253 187.349C124.874 184.021 122.383 181.274 119.205 179.577C116.027 177.88 112.359 177.337 108.826 178.042C105.293 178.746 102.113 180.654 99.8291 183.44C97.5451 186.226 96.2979 189.718 96.3 193.32C96.2985 195.364 96.7006 197.388 97.4831 199.275C98.2656 201.163 99.4132 202.877 100.86 204.32ZM204.32 122.88C206.868 120.333 208.453 116.981 208.806 113.396C209.159 109.811 208.258 106.214 206.256 103.219C204.254 100.223 201.275 98.0151 197.827 96.97C194.38 95.9249 190.676 96.1077 187.348 97.4873C184.02 98.8669 181.274 101.358 179.577 104.536C177.879 107.714 177.337 111.382 178.041 114.915C178.746 118.448 180.653 121.627 183.439 123.911C186.226 126.195 189.717 127.443 193.32 127.44C195.364 127.443 197.388 127.042 199.275 126.259C201.163 125.476 202.878 124.328 204.32 122.88ZM122.88 19.4205C120.333 16.8729 116.981 15.2876 113.395 14.9347C109.81 14.5817 106.213 15.483 103.218 17.4849C100.223 19.4868 98.0146 22.4654 96.9696 25.9131C95.9245 29.3608 96.1073 33.0642 97.4869 36.3922C98.8665 39.7202 101.358 42.4668 104.535 44.1639C107.713 45.861 111.381 46.4036 114.914 45.6992C118.447 44.9949 121.627 43.0871 123.911 40.301C126.195 37.515 127.442 34.0231 127.44 30.4205C127.44 28.3772 127.038 26.3539 126.255 24.4664C125.473 22.5788 124.326 20.8642 122.88 19.4205ZM19.42 100.86C16.8725 103.408 15.2872 106.76 14.9342 110.345C14.5813 113.93 15.4826 117.527 17.4844 120.522C19.4863 123.518 22.4649 125.726 25.9127 126.771C29.3604 127.816 33.0638 127.633 36.3918 126.254C39.7198 124.874 42.4664 122.383 44.1635 119.205C45.8606 116.027 46.4032 112.359 45.6988 108.826C44.9944 105.293 43.0866 102.114 40.3006 99.8296C37.5145 97.5455 34.0227 96.2983 30.42 96.3005C26.2938 96.3018 22.337 97.9421 19.42 100.86ZM100.86 100.86C98.3125 103.408 96.7272 106.76 96.3742 110.345C96.0213 113.93 96.9226 117.527 98.9244 120.522C100.926 123.518 103.905 125.726 107.353 126.771C110.8 127.816 114.504 127.633 117.832 126.254C121.16 124.874 123.906 122.383 125.604 119.205C127.301 116.027 127.843 112.359 127.139 108.826C126.434 105.293 124.527 102.114 121.741 99.8296C118.955 97.5455 115.463 96.2983 111.86 96.3005C109.817 96.299 107.793 96.701 105.905 97.4835C104.018 98.2661 102.303 99.4136 100.86 100.86Z\" fill=\"#00AEEF\"/>\n",
       "    </g>\n",
       "    <defs>\n",
       "        <clipPath id=\"clip0_4338_178347\">\n",
       "            <rect width=\"566.93\" height=\"223.75\" fill=\"white\"/>\n",
       "        </clipPath>\n",
       "    </defs>\n",
       "  </svg>\n",
       "</div>\n",
       "\n",
       "        <table class=\"jp-RenderedHTMLCommon\" style=\"border-collapse: collapse;color: var(--jp-ui-font-color1);font-size: var(--jp-ui-font-size1);\">\n",
       "    <tr>\n",
       "        <td style=\"text-align: left\"><b>Python version:</b></td>\n",
       "        <td style=\"text-align: left\"><b>3.9.16</b></td>\n",
       "    </tr>\n",
       "    <tr>\n",
       "        <td style=\"text-align: left\"><b>Ray version:</b></td>\n",
       "        <td style=\"text-align: left\"><b>2.9.2</b></td>\n",
       "    </tr>\n",
       "    <tr>\n",
       "    <td style=\"text-align: left\"><b>Dashboard:</b></td>\n",
       "    <td style=\"text-align: left\"><b><a href=\"http://127.0.0.1:8090\" target=\"_blank\">http://127.0.0.1:8090</a></b></td>\n",
       "</tr>\n",
       "\n",
       "</table>\n",
       "\n",
       "    </div>\n",
       "</div>\n"
      ],
      "text/plain": [
       "RayContext(dashboard_url='127.0.0.1:8090', python_version='3.9.16', ray_version='2.9.2', ray_commit='fce7a361807580953364e2da964f9498f3123bf9', protocol_version=None)"
      ]
     },
     "execution_count": 6,
     "metadata": {},
     "output_type": "execute_result"
    }
   ],
   "source": [
    "import ray\n",
    "ray.init()"
   ]
  },
  {
   "cell_type": "code",
   "execution_count": 19,
   "id": "c7bbcd14-d7fc-4b08-85f6-f2e214e5fc51",
   "metadata": {
    "tags": []
   },
   "outputs": [
    {
     "name": "stdout",
     "output_type": "stream",
     "text": [
      "ray.init() []\n"
     ]
    }
   ],
   "source": [
    "print('ray.init()',ray.get_gpu_ids())"
   ]
  },
  {
   "cell_type": "code",
   "execution_count": 7,
   "id": "b9436ad1-f18c-4218-b5b9-e17cdfe04ba1",
   "metadata": {
    "tags": []
   },
   "outputs": [
    {
     "name": "stdout",
     "output_type": "stream",
     "text": [
      "\u001b[36m(f pid=518, ip=10.129.8.143)\u001b[0m [0]\n",
      "\u001b[36m(f pid=518, ip=10.129.8.143)\u001b[0m 0\n",
      "\u001b[36m(f pid=518, ip=10.129.8.143)\u001b[0m cuda [0]\n",
      "\u001b[36m(f pid=488, ip=10.129.8.143)\u001b[0m [0]\n",
      "\u001b[36m(f pid=488, ip=10.129.8.143)\u001b[0m 0\n",
      "\u001b[36m(f pid=488, ip=10.129.8.143)\u001b[0m cuda [0]\n",
      "\u001b[36m(f pid=486, ip=10.129.8.144)\u001b[0m [0]\n",
      "\u001b[36m(f pid=486, ip=10.129.8.144)\u001b[0m 0\n",
      "\u001b[36m(f pid=516, ip=10.129.8.144)\u001b[0m [0]\n",
      "\u001b[36m(f pid=516, ip=10.129.8.144)\u001b[0m 0\n",
      "\u001b[36m(f pid=486, ip=10.129.8.144)\u001b[0m cuda [0]\n",
      "\u001b[36m(f pid=516, ip=10.129.8.144)\u001b[0m cuda [0]\n",
      "\u001b[36m(f pid=518, ip=10.129.8.143)\u001b[0m @ray.remote f 2 2\n",
      "\u001b[36m(f pid=488, ip=10.129.8.143)\u001b[0m @ray.remote f 2 3\n",
      "\u001b[36m(f pid=486, ip=10.129.8.144)\u001b[0m @ray.remote f 2 5\n",
      "\u001b[36m(f pid=516, ip=10.129.8.144)\u001b[0m @ray.remote f 2 4\n",
      "\u001b[36m(f pid=515, ip=10.129.10.28)\u001b[0m [0]\n",
      "\u001b[36m(f pid=515, ip=10.129.10.28)\u001b[0m 0\n",
      "\u001b[36m(f pid=468, ip=10.129.10.28)\u001b[0m [0]\n",
      "\u001b[36m(f pid=468, ip=10.129.10.28)\u001b[0m 0\n",
      "\u001b[36m(f pid=515, ip=10.129.10.28)\u001b[0m cuda [0]\n",
      "\u001b[36m(f pid=468, ip=10.129.10.28)\u001b[0m cuda [0]\n",
      "\u001b[36m(f pid=468, ip=10.129.10.28)\u001b[0m @ray.remote f 2 0\n",
      "\u001b[36m(f pid=515, ip=10.129.10.28)\u001b[0m @ray.remote f 2 1\n",
      "\u001b[36m(f pid=654, ip=10.129.8.143)\u001b[0m [0]\n",
      "\u001b[36m(f pid=654, ip=10.129.8.143)\u001b[0m 0\n",
      "\u001b[36m(f pid=654, ip=10.129.8.143)\u001b[0m cuda [0]\n",
      "\u001b[36m(f pid=704, ip=10.129.8.143)\u001b[0m [0]\n",
      "\u001b[36m(f pid=704, ip=10.129.8.143)\u001b[0m 0\n",
      "\u001b[36m(f pid=704, ip=10.129.8.143)\u001b[0m cuda [0]\n",
      "\u001b[36m(f pid=702, ip=10.129.8.144)\u001b[0m [0]\n",
      "\u001b[36m(f pid=702, ip=10.129.8.144)\u001b[0m 0\n",
      "\u001b[36m(f pid=702, ip=10.129.8.144)\u001b[0m cuda [0]\n",
      "\u001b[36m(f pid=752, ip=10.129.8.144)\u001b[0m [0]\n",
      "\u001b[36m(f pid=752, ip=10.129.8.144)\u001b[0m 0\n",
      "\u001b[36m(f pid=752, ip=10.129.8.144)\u001b[0m cuda [0]\n",
      "\u001b[36m(f pid=654, ip=10.129.8.143)\u001b[0m @ray.remote f 2 6\n",
      "\u001b[36m(f pid=704, ip=10.129.8.143)\u001b[0m @ray.remote f 2 7\n",
      "\u001b[36m(f pid=702, ip=10.129.8.144)\u001b[0m @ray.remote f 2 8\n",
      "\u001b[36m(f pid=752, ip=10.129.8.144)\u001b[0m @ray.remote f 2 9\n",
      "\u001b[36m(f pid=652, ip=10.129.10.28)\u001b[0m [0]\n",
      "\u001b[36m(f pid=652, ip=10.129.10.28)\u001b[0m 0\n",
      "\u001b[36m(f pid=653, ip=10.129.10.28)\u001b[0m [0]\n",
      "\u001b[36m(f pid=653, ip=10.129.10.28)\u001b[0m 0\n",
      "\u001b[36m(f pid=653, ip=10.129.10.28)\u001b[0m cuda [0]\n",
      "\u001b[36m(f pid=652, ip=10.129.10.28)\u001b[0m cuda [0]\n",
      "\u001b[36m(f pid=832, ip=10.129.8.143)\u001b[0m [0]\n",
      "\u001b[36m(f pid=832, ip=10.129.8.143)\u001b[0m 0\n",
      "\u001b[36m(f pid=832, ip=10.129.8.143)\u001b[0m cuda [0]\n",
      "\u001b[36m(f pid=653, ip=10.129.10.28)\u001b[0m @ray.remote f 2 11\n",
      "\u001b[36m(f pid=652, ip=10.129.10.28)\u001b[0m @ray.remote f 2 10\n",
      "\u001b[36m(f pid=931, ip=10.129.8.143)\u001b[0m [0]\n",
      "\u001b[36m(f pid=931, ip=10.129.8.143)\u001b[0m 0\n",
      "\u001b[36m(f pid=931, ip=10.129.8.143)\u001b[0m cuda [0]\n",
      "\u001b[36m(f pid=888, ip=10.129.8.144)\u001b[0m [0]\n",
      "\u001b[36m(f pid=888, ip=10.129.8.144)\u001b[0m 0\n",
      "\u001b[36m(f pid=832, ip=10.129.8.143)\u001b[0m @ray.remote f 2 12\n",
      "\u001b[36m(f pid=888, ip=10.129.8.144)\u001b[0m cuda [0]\n",
      "\u001b[36m(f pid=958, ip=10.129.8.144)\u001b[0m [0]\n",
      "\u001b[36m(f pid=958, ip=10.129.8.144)\u001b[0m 0\n",
      "\u001b[36m(f pid=958, ip=10.129.8.144)\u001b[0m cuda [0]\n",
      "\u001b[36m(f pid=931, ip=10.129.8.143)\u001b[0m @ray.remote f 2 13\n",
      "\u001b[36m(f pid=888, ip=10.129.8.144)\u001b[0m @ray.remote f 2 14\n",
      "\u001b[36m(f pid=772, ip=10.129.10.28)\u001b[0m [0]\n",
      "\u001b[36m(f pid=772, ip=10.129.10.28)\u001b[0m 0\n",
      "\u001b[36m(f pid=772, ip=10.129.10.28)\u001b[0m cuda [0]\n",
      "\u001b[36m(f pid=958, ip=10.129.8.144)\u001b[0m @ray.remote f 2 15\n",
      "\u001b[36m(f pid=773, ip=10.129.10.28)\u001b[0m [0]\n",
      "\u001b[36m(f pid=773, ip=10.129.10.28)\u001b[0m 0\n",
      "\u001b[36m(f pid=773, ip=10.129.10.28)\u001b[0m cuda [0]\n",
      "\u001b[36m(f pid=1002, ip=10.129.8.143)\u001b[0m [0]\n",
      "\u001b[36m(f pid=1002, ip=10.129.8.143)\u001b[0m 0\n",
      "\u001b[36m(f pid=1002, ip=10.129.8.143)\u001b[0m cuda [0]\n",
      "\u001b[36m(f pid=772, ip=10.129.10.28)\u001b[0m @ray.remote f 2 16\n",
      "\u001b[36m(f pid=773, ip=10.129.10.28)\u001b[0m @ray.remote f 2 17\n",
      "\u001b[36m(f pid=1125, ip=10.129.8.143)\u001b[0m [0]\n",
      "\u001b[36m(f pid=1125, ip=10.129.8.143)\u001b[0m 0\n",
      "\u001b[36m(f pid=1125, ip=10.129.8.143)\u001b[0m cuda [0]\n",
      "\u001b[36m(f pid=1002, ip=10.129.8.143)\u001b[0m @ray.remote f 2 18\n",
      "[31/May/2024 04:36:50] INFO - [0, 1, 4, 9, 16, 25, 36, 49, 64, 81, 100, 121, 144, 169, 196, 225, 256, 289, 324, 361]\n",
      "[31/May/2024 04:36:50] INFO - time 19.37404155731201\n"
     ]
    }
   ],
   "source": [
    "import time\n",
    "from logger import logger\n",
    "from multiprocessing import cpu_count\n",
    "import os\n",
    "import torch\n",
    "\n",
    "@ray.remote(num_cpus = 1,num_gpus=1/100)\n",
    "def f(i):\n",
    "    print(ray.get_gpu_ids())\n",
    "    # Here, CUDA_VISIBLE_DEVICES should be correctly set\n",
    "    print(os.getenv(\"CUDA_VISIBLE_DEVICES\"))\n",
    "    device = torch.device('cuda' if torch.cuda.is_available() else 'cpu')\n",
    "    print(device,ray.get_gpu_ids())\n",
    "    torch.rand(1, 1).to(device)\n",
    "    time.sleep(1)\n",
    "    print(\"@ray.remote\",\"f\",2,i)\n",
    "    return i*i\n",
    "bt = time.time()\n",
    "futures = [f.remote(i) for i in range(20)]\n",
    "logger.info(ray.get(futures))\n",
    "et = time.time()\n",
    "logger.info(f\"time {et-bt}\")"
   ]
  },
  {
   "cell_type": "code",
   "execution_count": 11,
   "id": "ebd5b3da-8c99-4943-8290-7aca902a920b",
   "metadata": {
    "tags": []
   },
   "outputs": [],
   "source": [
    "ray.shutdown()           # Stop Ray\n",
    "cluster.terminate()      # Delete the cluster"
   ]
  }
 ],
 "metadata": {
  "kernelspec": {
   "display_name": "Python 3 (ipykernel)",
   "language": "python",
   "name": "python3"
  },
  "language_info": {
   "codemirror_mode": {
    "name": "ipython",
    "version": 3
   },
   "file_extension": ".py",
   "mimetype": "text/x-python",
   "name": "python",
   "nbconvert_exporter": "python",
   "pygments_lexer": "ipython3",
   "version": "3.9.16"
  }
 },
 "nbformat": 4,
 "nbformat_minor": 5
}
